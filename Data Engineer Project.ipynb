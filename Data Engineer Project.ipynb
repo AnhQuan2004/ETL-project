{
 "cells": [
  {
   "cell_type": "markdown",
   "id": "6b85b796-8421-4969-9170-e83d78598aa3",
   "metadata": {
    "tags": []
   },
   "source": [
    "Data Engineering Project - Webscraping (ETL)\n",
    "=============================================\n",
    "In this project, I performed webscraping (Extraction), transformed data (Transformation), and saved it into my local drive (Load).\n",
    "\n",
    "* Tool / Libraries: **Python** / pandas, numpy, requests, sqlite3, bs4, datetime\n",
    "\n",
    "* Project Scenario: In the digital age, the film industry has witnessed exponential growth in both production and consumption. With an overwhelming number of movies being released each year, it becomes crucial for film enthusiasts, critics, and data analysts to have access to comprehensive and up-to-date film information. Extract, Transform, Load (ETL) processes play a vital role in collecting, organizing, and analyzing data from various sources. In this context, web scraping has emerged as a powerful technique to extract film data from online sources and enable the rating of films based on gathered information.\n"
   ]
  },
  {
   "cell_type": "code",
   "execution_count": 1,
   "id": "a6fb76e9-f6e7-4eca-b011-41a54c70e22d",
   "metadata": {
    "tags": []
   },
   "outputs": [],
   "source": [
    "# Import Libraries\n",
    "import pandas as pd\n",
    "import requests\n",
    "from bs4 import BeautifulSoup\n",
    "import numpy as np\n",
    "import sqlite3\n",
    "from datetime import datetime"
   ]
  },
  {
   "cell_type": "markdown",
   "id": "052d1035-8595-481b-932d-817d15c9138a",
   "metadata": {},
   "source": [
    "### STEP01: Write a extraction function\n",
    "\n",
    "The selected Python code is a function named extract that takes two parameters: url and table_attribs. This function is designed to scrape data from a webpage and store it in a pandas DataFrame for further processing."
   ]
  },
  {
   "cell_type": "code",
   "execution_count": 2,
   "id": "17681a4c-c3ef-4b8e-864d-d175677d3de0",
   "metadata": {
    "tags": []
   },
   "outputs": [],
   "source": [
    "def extract(url, table_attribs):\n",
    "    ''' This function extracts the required\n",
    "    information from the website and saves it to a dataframe. The\n",
    "    function returns the dataframe for further processing. '''\n",
    "    page = requests.get(url).text\n",
    "    data = BeautifulSoup(page, 'html.parser')\n",
    "    df = pd.DataFrame(columns=table_attribs)\n",
    "    tables = data.find_all('table')\n",
    "    rows = tables[0].find_all('tr')\n",
    "    for row in rows:\n",
    "        col = row.find_all('td')\n",
    "        if len(col) != 0:\n",
    "            name = col[1].find('a')\n",
    "            name_text = name.text.strip() if name else ''\n",
    "            data_dict = {\"Name\": name_text,\n",
    "                         \"Gross\": col[7].text[1:],\n",
    "                         \"Release Date\": col[8].text}\n",
    "            df1 = pd.DataFrame(data_dict, index=[0])\n",
    "            df = pd.concat([df, df1], ignore_index=True)\n",
    "    return df"
   ]
  },
  {
   "cell_type": "markdown",
   "id": "d5da7345-9b4f-45e4-9e72-81cfb7e7b0e8",
   "metadata": {
    "tags": []
   },
   "source": [
    "### STEP02: Write a transformation function\n",
    "\n",
    "The selected Python code is a function named transform that takes a pandas DataFrame df as an argument. This function is designed to modify the 'Gross' column of the DataFrame by removing commas, converting the values to floats, and then scaling the values to millions."
   ]
  },
  {
   "cell_type": "code",
   "execution_count": 3,
   "id": "89b0c928-08de-40f2-ac81-5b20cc3191d2",
   "metadata": {
    "tags": []
   },
   "outputs": [],
   "source": [
    "def transform(df):\n",
    "\n",
    "    film_list = df['Gross'].tolist()\n",
    "\n",
    "    # Remove commas \n",
    "    film_list = [x.replace(',','') for x in film_list]\n",
    "\n",
    "    # Now convert to floats\n",
    "    film_list = [float(x) for x in film_list]\n",
    "\n",
    "    film_list = [np.round(x/1000000,2) for x in film_list]\n",
    "\n",
    "    df['Gross'] = film_list\n",
    "\n",
    "    return df"
   ]
  },
  {
   "cell_type": "markdown",
   "id": "ef22fbd0-7eaa-4563-9057-a75b817f862b",
   "metadata": {},
   "source": [
    "### STEP03: Write a loading function (csv)\n",
    "Load the transformed dataframe to an output CSV file. Write a function **load_to_csv()**, execute a function call and verify the output."
   ]
  },
  {
   "cell_type": "code",
   "execution_count": 4,
   "id": "37ac7e39-e5c0-4969-aeb6-8c288f51ac5c",
   "metadata": {
    "tags": []
   },
   "outputs": [],
   "source": [
    "def load_to_csv(df, csv_path):\n",
    "    ''' This function saves the final dataframe as a `CSV` file \n",
    "    in the provided path. Function returns nothing.'''\n",
    "    df.to_csv(csv_path)"
   ]
  },
  {
   "cell_type": "markdown",
   "id": "825b5d63-1d29-4ccb-9018-12557d9dc24b",
   "metadata": {},
   "source": [
    "### STEP04: Write a loading function (database)\n",
    "Load the transformed dataframe to an SQL database server as a table. Write a function **load_to_db()**, execute a function call and verify the output."
   ]
  },
  {
   "cell_type": "code",
   "execution_count": 5,
   "id": "6a9c3b1e-68b8-45d3-b73b-7adb80ea8183",
   "metadata": {},
   "outputs": [],
   "source": [
    "def load_to_db(df, sql_connection, table_name):\n",
    "    ''' This function saves the final dataframe as a database table\n",
    "    with the provided name. Function returns nothing.'''\n",
    "    df.to_sql(table_name, sql_connection, if_exists='replace', index=False)\n"
   ]
  },
  {
   "cell_type": "markdown",
   "id": "567fd8f7-bbb6-4ad4-8822-58465fe18b41",
   "metadata": {},
   "source": [
    "### STEP05: Write a a running query function\n",
    "Run queries on the database table. Write a function **run_query()**, execute a given set of queries and verify the output."
   ]
  },
  {
   "cell_type": "code",
   "execution_count": 6,
   "id": "76cc891d-1276-4837-ac84-253412030d0e",
   "metadata": {
    "tags": []
   },
   "outputs": [],
   "source": [
    "def run_query(query_statement, sql_connection):\n",
    "    ''' This function runs the stated query on the database table and\n",
    "    prints the output on the terminal. Function returns nothing. '''\n",
    "    print(query_statement)\n",
    "    query_output = pd.read_sql(query_statement, sql_connection)\n",
    "    print(query_output)"
   ]
  },
  {
   "cell_type": "markdown",
   "id": "d1c9369c-ede9-4379-b834-489de51738ae",
   "metadata": {},
   "source": [
    "### STEP06: Write a logging function\n",
    "Write a function **log_progress()** to log the progress of the code at different stages in a file code_log.txt. Use the list of log points provided to create log entries as every stage of the code."
   ]
  },
  {
   "cell_type": "code",
   "execution_count": 7,
   "id": "f646d55d-19c9-4b31-8bff-f4fb20dfd966",
   "metadata": {
    "tags": []
   },
   "outputs": [],
   "source": [
    "def log_progress(message):\n",
    "    ''' This function logs the mentioned message at a given stage of the code execution to a log file. Function returns nothing'''\n",
    "    timestamp = datetime.now().strftime(\"%d/%m/%Y %H:%M:%S\")\n",
    "    with open(\"log.txt\", \"a\") as log_file:\n",
    "        log_file.write(timestamp + \" - \" + message + \"\\n\")"
   ]
  },
  {
   "cell_type": "markdown",
   "id": "03af019c-6f4a-469d-8afb-10797bf1de39",
   "metadata": {},
   "source": [
    "### STEP07: Run code and check result"
   ]
  },
  {
   "cell_type": "code",
   "execution_count": 8,
   "id": "383c0dd0-6477-4a83-bea3-4638f9a0d1a3",
   "metadata": {
    "tags": []
   },
   "outputs": [],
   "source": [
    "url = \"https://www.boxofficemojo.com/year/2023/\"\n",
    "table_attribs = [\"Name\", \"Gross\", \"Release Date\"]\n",
    "table_name = \"Movies_Rating\"\n",
    "db_name = \"Movies.db\"\n",
    "csv_path = \"Movies.csv\""
   ]
  },
  {
   "cell_type": "code",
   "execution_count": 9,
   "id": "d3471827-7523-4833-9b00-f2df8a91a17a",
   "metadata": {
    "tags": []
   },
   "outputs": [
    {
     "name": "stdout",
     "output_type": "stream",
     "text": [
      "SELECT * FROM Movies_Rating\n",
      "                                    Name   Gross Release Date\n",
      "0                                 Barbie  636.23       Jul 21\n",
      "1            The Super Mario Bros. Movie  574.93        Apr 5\n",
      "2    Spider-Man: Across the Spider-Verse  381.31        Jun 2\n",
      "3         Guardians of the Galaxy Vol. 3  359.00        May 5\n",
      "4                            Oppenheimer  326.10       Jul 21\n",
      "..                                   ...     ...          ...\n",
      "195                Knights of the Zodiac    1.09       May 12\n",
      "196                               Broker    1.05       Dec 23\n",
      "197                           Showing Up    0.75        Apr 7\n",
      "198                               Inside    0.92       Mar 17\n",
      "199              The Roundup: No Way Out    0.91        Jun 2\n",
      "\n",
      "[200 rows x 3 columns]\n"
     ]
    }
   ],
   "source": [
    "log_progress(\"ETL process started\")\n",
    "df = extract(url, table_attribs)\n",
    "\n",
    "log_progress(\"Data extracted from the website\")\n",
    "df = transform(df)\n",
    "\n",
    "log_progress(\"Data transform completed. Loading to CSV\")\n",
    "load_to_csv(df, csv_path)\n",
    "\n",
    "log_progress(\"Loading to CSV completed. Loading to DB\")\n",
    "sql_connection = sqlite3.connect(\"film_Rating.db\")\n",
    "\n",
    "log_progress(\"Loading to DB completed. Running query\")\n",
    "load_to_db(df, sql_connection, table_name)\n",
    "\n",
    "query_statement = f\"SELECT * FROM {table_name}\"\n",
    "run_query(query_statement, sql_connection)\n",
    "\n",
    "log_progress(\"ETL process completed\")\n",
    "sql_connection.close()\n"
   ]
  }
 ],
 "metadata": {
  "kernelspec": {
   "display_name": "Python 3",
   "language": "python",
   "name": "python3"
  },
  "language_info": {
   "codemirror_mode": {
    "name": "ipython",
    "version": 3
   },
   "file_extension": ".py",
   "mimetype": "text/x-python",
   "name": "python",
   "nbconvert_exporter": "python",
   "pygments_lexer": "ipython3",
   "version": "3.12.1"
  }
 },
 "nbformat": 4,
 "nbformat_minor": 5
}
